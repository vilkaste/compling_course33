{
  "cells": [
    {
      "cell_type": "markdown",
      "metadata": {
        "id": "view-in-github",
        "colab_type": "text"
      },
      "source": [
        "<a href=\"https://colab.research.google.com/github/vilkaste/compling_course33/blob/main/%D0%9A%D1%83%D0%B7%D0%BD%D0%B5%D1%86%D0%BE%D0%B2%D0%B0_tokenization_.ipynb\" target=\"_parent\"><img src=\"https://colab.research.google.com/assets/colab-badge.svg\" alt=\"Open In Colab\"/></a>"
      ]
    },
    {
      "cell_type": "markdown",
      "metadata": {
        "id": "hiXdJjBa9sCq"
      },
      "source": [
        "# Домашнее задание: Токенизация текста"
      ]
    },
    {
      "cell_type": "markdown",
      "source": [
        "Дан список текстов, которые нужно токенизировать разными способами"
      ],
      "metadata": {
        "id": "1xVbvaj_phyN"
      }
    },
    {
      "cell_type": "code",
      "source": [
        "text = [\n",
        "\"The quick brown fox jumps over the lazy dog. It's a beautiful day!\",\n",
        "\"Dr. Smith arrived at 5:30 p.m. from New York. The meeting cost $1,000.50.\",\n",
        "\"I can't believe she's going! Let's meet at Jane's house. They'll love it.\",\n",
        "\"What's the ETA for the package? Please e-mail support@example.com ASAP!\"\n",
        "]"
      ],
      "metadata": {
        "id": "uj-xaNnwpiPo"
      },
      "execution_count": null,
      "outputs": []
    },
    {
      "cell_type": "markdown",
      "source": [
        " Используйте способы токенизации, которые описаны в практикуме. Каждый способ нужно обернуть в функцию, например:\n",
        "\n",
        " ```python\n",
        " def simple_tokenization(string):\n",
        "   return string.split()\n",
        "   ```"
      ],
      "metadata": {
        "id": "ix1Im4Kcqb3_"
      }
    },
    {
      "cell_type": "markdown",
      "source": [
        "1. Напишите функцию для токенизации по пробелам и знакам препинания (используйте оператор `def`)"
      ],
      "metadata": {
        "id": "Ih0BBOGBpv6Z"
      }
    },
    {
      "cell_type": "code",
      "source": [
        "import re # импорт библиотеки для токенизации\n",
        "def simple_tokenization_re(string): # задать функцию\n",
        "\n",
        "  tokens = re.findall(r\"\\w+\", string) # проводим токенизацию\n",
        "\n",
        "  return tokens # возвращение результата работы функции"
      ],
      "metadata": {
        "id": "W1QCaw6cqDnn"
      },
      "execution_count": 52,
      "outputs": []
    },
    {
      "cell_type": "markdown",
      "source": [
        "2. Напишите функцию для токенизации текста с помощью NLTK"
      ],
      "metadata": {
        "id": "GThvPcovqgO5"
      }
    },
    {
      "cell_type": "code",
      "source": [
        "import nltk # импорт библиотеки\n",
        "nltk.download('punkt_tab') # загрузка пакета для токенизации (новая версия)\n",
        "def simple_tokenization_nltk(string): # задать функцию\n",
        "\n",
        "  from nltk.tokenize import word_tokenize, sent_tokenize # импорт функций для токенизации\n",
        "  word = word_tokenize(string)\n",
        "  sent = sent_tokenize(string)\n",
        "\n",
        "  return word, sent # возвращение результата работы функции"
      ],
      "metadata": {
        "id": "14BIv33iqrkL",
        "colab": {
          "base_uri": "https://localhost:8080/"
        },
        "outputId": "d07f5ab7-8ac1-4f93-c145-be1c8a55bc0d"
      },
      "execution_count": 61,
      "outputs": [
        {
          "output_type": "stream",
          "name": "stderr",
          "text": [
            "[nltk_data] Downloading package punkt_tab to /root/nltk_data...\n",
            "[nltk_data]   Package punkt_tab is already up-to-date!\n"
          ]
        }
      ]
    },
    {
      "cell_type": "markdown",
      "source": [
        "3. Напишите функцию для токенизации текста с помощью Spacy"
      ],
      "metadata": {
        "id": "GxW7ZP6iqwpt"
      }
    },
    {
      "cell_type": "code",
      "source": [
        "import spacy # импорт библиотеки\n",
        "nlp = spacy.load(\"en_core_web_sm\") # загрузка модели из библиотеки\n",
        "\n",
        "def simple_tokenization_spacy(string): # задать функцию\n",
        "\n",
        "  doc = nlp(string) # обработка\n",
        "\n",
        "  return [token.text for token in doc] # возвращение результата работы функции"
      ],
      "metadata": {
        "id": "B0NQg-VfuFW_"
      },
      "execution_count": 53,
      "outputs": []
    },
    {
      "cell_type": "markdown",
      "source": [
        "4. С помощью цикла `for` примените каждую из написанных функций к каждому тексту из списка `texts`"
      ],
      "metadata": {
        "id": "WmyJfB9wuKkm"
      }
    },
    {
      "cell_type": "code",
      "execution_count": 63,
      "metadata": {
        "id": "lvUmk94MhrL8",
        "colab": {
          "base_uri": "https://localhost:8080/"
        },
        "outputId": "a767a110-7706-4332-9e77-dc3d766f5483"
      },
      "outputs": [
        {
          "output_type": "stream",
          "name": "stdout",
          "text": [
            "RE tokenization: ['The', 'quick', 'brown', 'fox', 'jumps', 'over', 'the', 'lazy', 'dog', 'It', 's', 'a', 'beautiful', 'day']\n",
            "NLTK tokenization (words): ['The', 'quick', 'brown', 'fox', 'jumps', 'over', 'the', 'lazy', 'dog', '.', 'It', \"'s\", 'a', 'beautiful', 'day', '!']\n",
            "NLTK tokenization (sentences): ['The quick brown fox jumps over the lazy dog.', \"It's a beautiful day!\"]\n",
            "Spacy tokenization: ['The', 'quick', 'brown', 'fox', 'jumps', 'over', 'the', 'lazy', 'dog', '.', 'It', \"'s\", 'a', 'beautiful', 'day', '!']\n",
            "RE tokenization: ['Dr', 'Smith', 'arrived', 'at', '5', '30', 'p', 'm', 'from', 'New', 'York', 'The', 'meeting', 'cost', '1', '000', '50']\n",
            "NLTK tokenization (words): ['Dr.', 'Smith', 'arrived', 'at', '5:30', 'p.m.', 'from', 'New', 'York', '.', 'The', 'meeting', 'cost', '$', '1,000.50', '.']\n",
            "NLTK tokenization (sentences): ['Dr. Smith arrived at 5:30 p.m. from New York.', 'The meeting cost $1,000.50.']\n",
            "Spacy tokenization: ['Dr.', 'Smith', 'arrived', 'at', '5:30', 'p.m.', 'from', 'New', 'York', '.', 'The', 'meeting', 'cost', '$', '1,000.50', '.']\n",
            "RE tokenization: ['I', 'can', 't', 'believe', 'she', 's', 'going', 'Let', 's', 'meet', 'at', 'Jane', 's', 'house', 'They', 'll', 'love', 'it']\n",
            "NLTK tokenization (words): ['I', 'ca', \"n't\", 'believe', 'she', \"'s\", 'going', '!', 'Let', \"'s\", 'meet', 'at', 'Jane', \"'s\", 'house', '.', 'They', \"'ll\", 'love', 'it', '.']\n",
            "NLTK tokenization (sentences): [\"I can't believe she's going!\", \"Let's meet at Jane's house.\", \"They'll love it.\"]\n",
            "Spacy tokenization: ['I', 'ca', \"n't\", 'believe', 'she', \"'s\", 'going', '!', 'Let', \"'s\", 'meet', 'at', 'Jane', \"'s\", 'house', '.', 'They', \"'ll\", 'love', 'it', '.']\n",
            "RE tokenization: ['What', 's', 'the', 'ETA', 'for', 'the', 'package', 'Please', 'e', 'mail', 'support', 'example', 'com', 'ASAP']\n",
            "NLTK tokenization (words): ['What', \"'s\", 'the', 'ETA', 'for', 'the', 'package', '?', 'Please', 'e-mail', 'support', '@', 'example.com', 'ASAP', '!']\n",
            "NLTK tokenization (sentences): [\"What's the ETA for the package?\", 'Please e-mail support@example.com ASAP!']\n",
            "Spacy tokenization: ['What', \"'s\", 'the', 'ETA', 'for', 'the', 'package', '?', 'Please', 'e', '-', 'mail', 'support@example.com', 'ASAP', '!']\n"
          ]
        }
      ],
      "source": [
        "texts = [\n",
        "\"The quick brown fox jumps over the lazy dog. It's a beautiful day!\",\n",
        "\"Dr. Smith arrived at 5:30 p.m. from New York. The meeting cost $1,000.50.\",\n",
        "\"I can't believe she's going! Let's meet at Jane's house. They'll love it.\",\n",
        "\"What's the ETA for the package? Please e-mail support@example.com ASAP!\"\n",
        "] #задаем список\n",
        "\n",
        "for text in texts:\n",
        "  print (\"RE tokenization:\", simple_tokenization_re(text)) #вывод результата re\n",
        "\n",
        "  nltk_word, nltk_sent = simple_tokenization_nltk(text) #разделяем результат\n",
        "  print(\"NLTK tokenization (words):\", nltk_word) #выводим слова для нлтк\n",
        "  print(\"NLTK tokenization (sentences):\", nltk_sent) #выводим предложения для нлтк\n",
        "\n",
        "  print (\"Spacy tokenization:\", simple_tokenization_spacy(text)) # вывод результата spacy"
      ]
    },
    {
      "cell_type": "markdown",
      "metadata": {
        "id": "iqAgf6sGhrL8"
      },
      "source": [
        "##### Критерии оценки (макс. балл == 5):\n",
        "\n",
        "- Функциональность (до 4 баллов)): Все методы работают корректно (запускаем код, и он работает)\n",
        "- Качество кода (до 1 балла): Чистый, документированный код с обработкой ошибок (кратко описать, что вы дополнили самостоятельно, например, \"добавлена токенизация `spacy`\")"
      ]
    },
    {
      "cell_type": "markdown",
      "source": [
        "Теоретические вопросы (макс. балл == 5; в ведомость выставляется сумма за практику и теорию)\n",
        "\n",
        "Необходимо дать краткие ответы на вопросы по теме \"токенизация\". В сумме длина ответов на вопрос не должна превышать размер вордовской страницы 14 шрифтом."
      ],
      "metadata": {
        "id": "Mwe1Co6MvibX"
      }
    },
    {
      "cell_type": "markdown",
      "source": [
        "1. Почему простое разделение текста по пробелам и знакам препинания часто является недостаточным для современных NLP-задач? Приведите 2-3 конкретных примера, когда деление текста по символам или словам не работает. (2 балла за полный и подробный ответ на вопрос)\n",
        "\n",
        "2. Сколько токенов во фразе \"You shall know a word by the company it keeps\" в модели GPT-5? Как вы получили это значение? (1 балл за правильный ответ и ссылку на ресурс, с помощью которого вы узнали эту информацию)\n",
        "\n",
        "3. Опишите своими словами работу алгоритма BPE (можно форматировать ответ с использованием списков, 2 балла за корректное описание и ясное изложение ответа)"
      ],
      "metadata": {
        "id": "mgE2bQFXv0MG"
      }
    },
    {
      "cell_type": "markdown",
      "source": [
        "1. Оно является недостаточным, так как современный язык наполнен словами, которые сложно определить по пробелу или символу. Если посмотреть на вывод использованных моделей в нашей домашней работе, то можно увидеть, что некоторые единицы разделяются не совсем верно. Например слово e-mail считывается как два разных слова из-за наличия дефиса некоторыми re и spaCy. Или, например, случаи со словами по типу «she's» «it's». С одной стороны они действительно являются двумя единицами, однако, как мне кажется, в случае с таким слиянием разбиение на две единицы нарушает восприятие.\n",
        "\n",
        "2. 10 токенов (https://gpt-tokenizer.dev/)\n",
        "\n",
        "3.\n",
        "а) слово разбивается на отдельные символы (к, о, м, п, ь, ю, т, е, р)\n",
        "б) подсчитывается частотность попарных символов в использованнном корпусе (-к, ко, ом, мп ... р-)\n",
        "в) наиболее частотные пары становятся также токеном, то есть теперь мы имеем не только отдельные символы, но и частотные попарные вхождения.\n",
        "г) после этого объединяются и частотные непарные вхождения, то есть >2 символов.так, слова могут разделяться на составляющие.\n",
        "\n",
        "Такой способ полезен для редких или длинных слов, так как алгоритм может найти в нем частотные пары (или подслова с большим количеством символов) и составить слово, в отличии от пословной или посимвольной токенизации.\n",
        "\n"
      ],
      "metadata": {
        "id": "I7QGFKzbxPPw"
      }
    },
    {
      "cell_type": "code",
      "source": [],
      "metadata": {
        "id": "8DIelOoB03L-"
      },
      "execution_count": null,
      "outputs": []
    }
  ],
  "metadata": {
    "colab": {
      "provenance": [],
      "include_colab_link": true
    },
    "kernelspec": {
      "display_name": "Python 3",
      "name": "python3"
    },
    "language_info": {
      "name": "python"
    }
  },
  "nbformat": 4,
  "nbformat_minor": 0
}